{
 "cells": [
  {
   "cell_type": "code",
   "execution_count": 2,
   "id": "33295d2b",
   "metadata": {},
   "outputs": [],
   "source": [
    "import sys\n",
    "import numpy as np\n",
    "from scipy.stats import norm\n",
    "import torch\n",
    "import torch.nn as nn\n",
    "import torch.optim as optim\n",
    "\n",
    "sys.path.append(\"..\")\n",
    "\n",
    "from pricing_basket import monte_carlo_basket_option"
   ]
  },
  {
   "cell_type": "code",
   "execution_count": 3,
   "id": "4ce90522",
   "metadata": {},
   "outputs": [],
   "source": [
    "class Stock:\n",
    "    \"\"\"\n",
    "    This class will allow :\n",
    "        1. the calculation of prices for each asset at each time\n",
    "    \"\"\"\n",
    "    #Parameters for the basket option\n",
    "    S0 = [100, 100]          #Initial prices of two assets\n",
    "    K = 100                  #Strike price\n",
    "    T = 1                    #Maturity in years\n",
    "    r = 0.05                 #Risk-free rate\n",
    "    sigma = [0.2, 0.3]       #Volatilities of the assets\n",
    "    rho = 0.5                #Correlation between asset returns\n",
    "    \n",
    "    def generate_stock_data(self, S0, K, T, r, sigma, rho):\n",
    "        \n",
    "        assert isinstance(S0[0], (int, float)), \"The underlying asset price shoud be a number\"\n",
    "        assert isinstance(S0[1], (int, float)), \"The underlying asset price shoud be a number\"\n",
    "        assert isinstance(K, (int, float)), \"The premieum shoud be a number\"\n",
    "        assert isinstance(sigma, (int, float)), \"The volatility price shoud be a number\"\n",
    "        assert isinstance(r, (int, float)), \"The free risk rate shoud be a number\"\n",
    "        assert isinstance(rho, (int, float)), \"The correlation shoud be a number\"\n",
    "        \n",
    "        self.S0=S0\n",
    "        self.T=T                        # maturity\n",
    "        self.K=K                        # strick (premium)\n",
    "        self.sigma=sigma                # constant volatility\n",
    "        self.r=r                        # risk-free\n",
    "        self.rho=rho                    # correlation\n",
    "        \n",
    "        #Generate synthetic data\n",
    "        self.basket_option_price = monte_carlo_basket_option(S0, K, T, r, sigma, rho)\n",
    "        return self.basket_option_price\n",
    "    \n",
    "    def __str__(self):\n",
    "        return f\"{self.basket_option_price}\""
   ]
  },
  {
   "cell_type": "code",
   "execution_count": 4,
   "id": "6b464bd8",
   "metadata": {},
   "outputs": [],
   "source": [
    "class BasketOptionNN(nn.Module):\n",
    "    \n",
    "    def __init__(self):\n",
    "        super(BasketOptionNN, self).__init__()\n",
    "        self.layers = nn.Sequential(\n",
    "            nn.Linear(6, 64),  #6 input features (S0_1, S0_2, K, T, r, rho)\n",
    "            nn.ReLU(),\n",
    "            nn.Linear(64, 64),\n",
    "            nn.ReLU(),\n",
    "            nn.Linear(64, 1)   #1 output (option price)\n",
    "        )\n",
    "\n",
    "    def forward(self, x):\n",
    "        return self.layers(x)\n",
    "\n",
    "#Initialize model, loss function, and optimizer\n",
    "model = BasketOptionNN()\n",
    "criterion = nn.MSELoss()\n",
    "optimizer = optim.Adam(model.parameters(), lr=0.001)"
   ]
  },
  {
   "cell_type": "code",
   "execution_count": 5,
   "id": "e7260f3e",
   "metadata": {},
   "outputs": [],
   "source": [
    "def generate_training_data(num_samples=1000):\n",
    "    X = []\n",
    "    y = []\n",
    "    for _ in range(num_samples):\n",
    "        #Randomize parameters within a specified range\n",
    "        S0 = np.random.uniform(80, 120, size=2)\n",
    "        K = np.random.uniform(80, 120)\n",
    "        T = np.random.uniform(0.5, 2.0)\n",
    "        r = np.random.uniform(0.01, 0.1)\n",
    "        sigma = np.random.uniform(0.1, 0.4, size=2)\n",
    "        rho = np.random.uniform(-0.5, 0.5)\n",
    "\n",
    "        #Get Monte Carlo price\n",
    "        price = monte_carlo_basket_option(S0, K, T, r, sigma, rho)\n",
    "        \n",
    "        #Append data to lists\n",
    "        X.append([S0[0], S0[1], K, T, r, rho])\n",
    "        y.append(price)\n",
    "    \n",
    "    return torch.tensor(X, dtype=torch.float32), torch.tensor(y, dtype=torch.float32)\n",
    "\n",
    "#Generate training data\n",
    "X_train, y_train = generate_training_data()"
   ]
  },
  {
   "cell_type": "code",
   "execution_count": 6,
   "id": "80c05410",
   "metadata": {},
   "outputs": [
    {
     "name": "stdout",
     "output_type": "stream",
     "text": [
      "Epoch [100/1000], Loss: 16.7403\n",
      "Epoch [200/1000], Loss: 11.5737\n",
      "Epoch [300/1000], Loss: 9.7375\n",
      "Epoch [400/1000], Loss: 7.9775\n",
      "Epoch [500/1000], Loss: 6.7144\n",
      "Epoch [600/1000], Loss: 6.0032\n",
      "Epoch [700/1000], Loss: 5.6424\n",
      "Epoch [800/1000], Loss: 5.4852\n",
      "Epoch [900/1000], Loss: 5.4035\n",
      "Epoch [1000/1000], Loss: 5.2731\n"
     ]
    }
   ],
   "source": [
    "#Training the NN\n",
    "epochs = 1000\n",
    "for epoch in range(epochs):\n",
    "    model.train()\n",
    "    optimizer.zero_grad()\n",
    "    outputs = model(X_train)\n",
    "    loss = criterion(outputs.squeeze(), y_train)\n",
    "    loss.backward()\n",
    "    optimizer.step()\n",
    "\n",
    "    if (epoch + 1) % 100 == 0:\n",
    "        print(f'Epoch [{epoch + 1}/{epochs}], Loss: {loss.item():.4f}')"
   ]
  },
  {
   "cell_type": "code",
   "execution_count": 7,
   "id": "9fcbbddf",
   "metadata": {},
   "outputs": [
    {
     "name": "stdout",
     "output_type": "stream",
     "text": [
      "Analytical Black-Scholes price: 10.450583572185565\n"
     ]
    }
   ],
   "source": [
    "#Application of BS for a single option\n",
    "def black_scholes_price(S, K, T, r, sigma):\n",
    "    \"\"\"Calculate European call option price using Black-Scholes formula for one asset.\"\"\"\n",
    "    d1 = (np.log(S / K) + (r + 0.5 * sigma ** 2) * T) / (sigma * np.sqrt(T))\n",
    "    d2 = d1 - sigma * np.sqrt(T)\n",
    "    call_price = S * norm.cdf(d1) - K * np.exp(-r * T) * norm.cdf(d2)\n",
    "    return call_price\n",
    "\n",
    "# Example: Single asset case\n",
    "S_single = 100\n",
    "K_single = 100\n",
    "T_single = 1\n",
    "r_single = 0.05\n",
    "sigma_single = 0.2\n",
    "bs_price = black_scholes_price(S_single, K_single, T_single, r_single, sigma_single)\n",
    "print(\"Analytical Black-Scholes price:\", bs_price)"
   ]
  },
  {
   "cell_type": "code",
   "execution_count": 8,
   "id": "89a6271a",
   "metadata": {},
   "outputs": [
    {
     "name": "stdout",
     "output_type": "stream",
     "text": [
      "Mean Relative Error: 34.1677%\n"
     ]
    }
   ],
   "source": [
    "#Model evaluation \n",
    "def evaluate_model(model, X_test, y_test):\n",
    "    model.eval()\n",
    "    with torch.no_grad():\n",
    "        predictions = model(X_test).squeeze()\n",
    "        error = torch.mean(torch.abs(predictions - y_test) / y_test)\n",
    "        print(f\"Mean Relative Error: {error.item():.4%}\")\n",
    "\n",
    "# Generate test data and evaluate the model\n",
    "X_test, y_test = generate_training_data(num_samples=100)\n",
    "evaluate_model(model, X_test, y_test)"
   ]
  },
  {
   "cell_type": "code",
   "execution_count": null,
   "id": "9be268a4",
   "metadata": {},
   "outputs": [],
   "source": []
  }
 ],
 "metadata": {
  "kernelspec": {
   "display_name": "Python 3 (ipykernel)",
   "language": "python",
   "name": "python3"
  },
  "language_info": {
   "codemirror_mode": {
    "name": "ipython",
    "version": 3
   },
   "file_extension": ".py",
   "mimetype": "text/x-python",
   "name": "python",
   "nbconvert_exporter": "python",
   "pygments_lexer": "ipython3",
   "version": "3.11.2"
  }
 },
 "nbformat": 4,
 "nbformat_minor": 5
}
